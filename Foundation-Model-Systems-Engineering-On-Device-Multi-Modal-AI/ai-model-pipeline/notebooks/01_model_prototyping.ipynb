{
 "cells": [
  {
   "cell_type": "code",
   "execution_count": 1,
   "id": "3a7dd2a9",
   "metadata": {},
   "outputs": [
    {
     "name": "stderr",
     "output_type": "stream",
     "text": [
      "/usr/local/python/3.12.1/lib/python3.12/site-packages/tqdm/auto.py:21: TqdmWarning: IProgress not found. Please update jupyter and ipywidgets. See https://ipywidgets.readthedocs.io/en/stable/user_install.html\n",
      "  from .autonotebook import tqdm as notebook_tqdm\n"
     ]
    },
    {
     "name": "stdout",
     "output_type": "stream",
     "text": [
      "Libraries imported and environment variables loaded successfully.\n"
     ]
    }
   ],
   "source": [
    "import torch\n",
    "from transformers import AutoProcessor, AutoModelForCausalLM\n",
    "from PIL import Image\n",
    "import requests\n",
    "import yaml\n",
    "from dotenv import load_dotenv\n",
    "import os\n",
    "\n",
    "# Load environment variables from .env file\n",
    "load_dotenv()\n",
    "\n",
    "# Securely get the Hugging Face token\n",
    "HUGGING_FACE_TOKEN = os.getenv(\"HUGGING_FACE_TOKEN\")\n",
    "\n",
    "# Check if the token is available\n",
    "if not HUGGING_FACE_TOKEN:\n",
    "    raise ValueError(\"Hugging Face token not found. Please add it to your .env file.\")\n",
    "\n",
    "print(\"Libraries imported and environment variables loaded successfully.\")"
   ]
  },
  {
   "cell_type": "code",
   "execution_count": 2,
   "id": "79b37739",
   "metadata": {},
   "outputs": [
    {
     "name": "stdout",
     "output_type": "stream",
     "text": [
      "Configuration loaded:\n",
      "{'model': {'base_model_name': 'llava-hf/llava-1.5-7b-hf', 'fine_tuned_path': './artifacts/fine_tuned_model', 'quantized_path': './artifacts/quantized_model', 'coreml_output_path': './artifacts/AuraModel.mlmodel'}, 'data': {'dataset_name': 'name-of-your-multimodal-dataset', 'local_path': './data'}, 'training': {'num_epochs': 3, 'learning_rate': '1e-5', 'batch_size_per_device': 4, 'output_dir': './artifacts/training_output'}, 'optimization': {'quantization_type': 'int8'}}\n"
     ]
    }
   ],
   "source": [
    "# Load the configuration file\n",
    "with open('../configs/training_config.yaml', 'r') as file:\n",
    "    config = yaml.safe_load(file)\n",
    "\n",
    "print(\"Configuration loaded:\")\n",
    "print(config)"
   ]
  },
  {
   "cell_type": "code",
   "execution_count": 5,
   "id": "03fc384f",
   "metadata": {},
   "outputs": [
    {
     "name": "stderr",
     "output_type": "stream",
     "text": [
      "/usr/local/python/3.12.1/lib/python3.12/site-packages/transformers/models/auto/modeling_auto.py:2284: FutureWarning: The class `AutoModelForVision2Seq` is deprecated and will be removed in v5.0. Please use `AutoModelForImageTextToText` instead.\n",
      "  warnings.warn(\n",
      "Fetching 3 files:   0%|          | 0/3 [00:00<?, ?it/s]"
     ]
    },
    {
     "ename": "",
     "evalue": "",
     "output_type": "error",
     "traceback": [
      "\u001b[1;31mThe Kernel crashed while executing code in the current cell or a previous cell. \n",
      "\u001b[1;31mPlease review the code in the cell(s) to identify a possible cause of the failure. \n",
      "\u001b[1;31mClick <a href='https://aka.ms/vscodeJupyterKernelCrash'>here</a> for more info. \n",
      "\u001b[1;31mView Jupyter <a href='command:jupyter.viewOutput'>log</a> for further details."
     ]
    }
   ],
   "source": [
    "import torch\n",
    "# --- THE FIX IS HERE ---\n",
    "from transformers import AutoProcessor, AutoModelForVision2Seq # <- Use the correct class for Vision models\n",
    "from PIL import Image\n",
    "import requests\n",
    "import yaml\n",
    "from dotenv import load_dotenv\n",
    "import os\n",
    "\n",
    "# ... (Load environment variables and check token as before) ...\n",
    "\n",
    "# --- Load Configuration ---\n",
    "with open('../configs/training_config.yaml', 'r') as file:\n",
    "    config = yaml.safe_load(file)\n",
    "\n",
    "model_name = config['model']['base_model_name']\n",
    "HUGGING_FACE_TOKEN = os.getenv(\"HUGGING_FACE_TOKEN\") # Make sure token is loaded\n",
    "\n",
    "# --- Load the Processor (this was already correct) ---\n",
    "processor = AutoProcessor.from_pretrained(model_name, use_auth_token=HUGGING_FACE_TOKEN)\n",
    "\n",
    "# --- Load the Model with the CORRECT class ---\n",
    "# Using float16 to save memory, essential for large models\n",
    "model = AutoModelForVision2Seq.from_pretrained(\n",
    "    model_name, \n",
    "    torch_dtype=torch.float16, \n",
    "    low_cpu_mem_usage=True, \n",
    "    use_auth_token=HUGGING_FACE_TOKEN\n",
    ")\n",
    "\n",
    "# Move the model to the GPU if available\n",
    "device = \"cuda\" if torch.cuda.is_available() else \"cpu\"\n",
    "model.to(device)\n",
    "\n",
    "print(f\"Model '{model_name}' loaded successfully on device: {device}\")"
   ]
  }
 ],
 "metadata": {
  "kernelspec": {
   "display_name": "Python 3",
   "language": "python",
   "name": "python3"
  },
  "language_info": {
   "codemirror_mode": {
    "name": "ipython",
    "version": 3
   },
   "file_extension": ".py",
   "mimetype": "text/x-python",
   "name": "python",
   "nbconvert_exporter": "python",
   "pygments_lexer": "ipython3",
   "version": "3.12.1"
  }
 },
 "nbformat": 4,
 "nbformat_minor": 5
}
